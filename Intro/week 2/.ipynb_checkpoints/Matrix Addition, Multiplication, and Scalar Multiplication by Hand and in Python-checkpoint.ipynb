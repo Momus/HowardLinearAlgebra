{
 "cells": [
  {
   "cell_type": "markdown",
   "id": "a194a883-4c39-4c23-b308-cbc2fa41064a",
   "metadata": {},
   "source": [
    "### Test Questions"
   ]
  },
  {
   "cell_type": "markdown",
   "id": "45712ac1-afcf-42ff-babf-baefd3cb6e34",
   "metadata": {},
   "source": [
    "Question 1\n",
    "Given the matrix below, \n",
    "\n",
    "A=\\begin{bmatrix} 3 & -1 \\\\ 2 & -2 \\end{bmatrix}\n",
    "\n",
    "B=\\begin{bmatrix} 1 & 2 & -1 \\\\ 0 & 2 & 7 \\end{bmatrix}\n",
    "\n",
    "Find the following, if they exist.\n",
    "\n",
    "$$ 2A * B $$"
   ]
  },
  {
   "cell_type": "markdown",
   "id": "f24fc045-f690-4514-a694-abc3648c17d2",
   "metadata": {},
   "source": [
    "Question 1\n",
    "2A is a 2 x 2 matrix. B is a 2 x 3 matrix\n",
    "2A * B will be a 2 x 3 matrix.\n",
    "\n",
    "2 * A=\\begin{bmatrix}\n",
    "2 * 3 & 2 * -1 \\\\ \n",
    "2* 2 & 2 * -2\n",
    "\\end{bmatrix}\n",
    "= \\begin{bmatrix}\n",
    "6 & -2 \\\\\n",
    "4 & -4\n",
    "\\end{bmatrix}\n",
    "* \\begin{bmatrix}\n",
    "1 & 2 & -1 \n",
    "\\\\ 0 & 2 & 7 \\end{bmatrix}\n"
   ]
  },
  {
   "cell_type": "markdown",
   "id": "6f8c5108-eefc-41be-9246-6f1da748c9cf",
   "metadata": {},
   "source": [
    "2A * B= \\begin{bmatrix}\n",
    "((6 * 1) + (-2 * 0)) & ((6 * 2 ) + (-2 * 2)) & ((6 * -1) + (-2 * 7))\\\\\n",
    "((4 * 1 ) + (-4 * 0)) & ((4 * 2) + (-4 * 2)) & ((4 * -1) + (-4 * 7 ))\\\\\n",
    "\\end{bmatrix}"
   ]
  },
  {
   "cell_type": "markdown",
   "id": "860bff2e-e597-4998-b6b4-04c9e2cacd79",
   "metadata": {},
   "source": [
    "=\n",
    "\\begin{bmatrix}\n",
    "6 & 8 & -20\\\\\n",
    "4 & 0 & -32\n",
    "\\end{bmatrix}"
   ]
  },
  {
   "cell_type": "markdown",
   "id": "1c3b3271-04fa-4c9b-8822-ec0ce9bec6f3",
   "metadata": {},
   "source": [
    "Question 3\n",
    "Given the matrix below, \n",
    "\n",
    "A=\\begin{bmatrix} 3 & -1 \\\\ 2 & -2 \\end{bmatrix}\n",
    "\n",
    "B=\\begin{bmatrix} 1 & 2 & -1 \\\\ 0 & 2 & 7 \\end{bmatrix}\n",
    "\n",
    "Find the following, if they exist.\n",
    "\n",
    " B * A"
   ]
  },
  {
   "cell_type": "markdown",
   "id": "c3be0879-ce41-488e-8757-1160c9622b06",
   "metadata": {},
   "source": [
    "2 by 3 and a 2 by 2 matrix cannot be multiplied."
   ]
  }
 ],
 "metadata": {
  "kernelspec": {
   "display_name": "Python 3 (ipykernel)",
   "language": "python",
   "name": "python3"
  },
  "language_info": {
   "codemirror_mode": {
    "name": "ipython",
    "version": 3
   },
   "file_extension": ".py",
   "mimetype": "text/x-python",
   "name": "python",
   "nbconvert_exporter": "python",
   "pygments_lexer": "ipython3",
   "version": "3.10.7"
  }
 },
 "nbformat": 4,
 "nbformat_minor": 5
}
