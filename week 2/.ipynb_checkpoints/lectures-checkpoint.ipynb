{
 "cells": [
  {
   "cell_type": "markdown",
   "id": "190f145c-30d1-4cc5-a35f-1f0087a31ea1",
   "metadata": {},
   "source": [
    "# Week 2"
   ]
  },
  {
   "cell_type": "markdown",
   "id": "52fce7d3-db22-4aa1-b68f-4d674db6764c",
   "metadata": {},
   "source": [
    "## Linear Algebra Functions in Python"
   ]
  },
  {
   "cell_type": "code",
   "execution_count": null,
   "id": "d1f3ee20-b683-4817-842a-0f8c51541ffa",
   "metadata": {},
   "outputs": [],
   "source": []
  }
 ],
 "metadata": {
  "kernelspec": {
   "display_name": "Python 3 (ipykernel)",
   "language": "python",
   "name": "python3"
  },
  "language_info": {
   "codemirror_mode": {
    "name": "ipython",
    "version": 3
   },
   "file_extension": ".py",
   "mimetype": "text/x-python",
   "name": "python",
   "nbconvert_exporter": "python",
   "pygments_lexer": "ipython3",
   "version": "3.10.7"
  }
 },
 "nbformat": 4,
 "nbformat_minor": 5
}
