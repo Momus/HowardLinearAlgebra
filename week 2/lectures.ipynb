{
 "cells": [
  {
   "cell_type": "markdown",
   "id": "190f145c-30d1-4cc5-a35f-1f0087a31ea1",
   "metadata": {},
   "source": [
    "# Week 2"
   ]
  },
  {
   "cell_type": "markdown",
   "id": "52fce7d3-db22-4aa1-b68f-4d674db6764c",
   "metadata": {},
   "source": [
    "## Linear Algebra Functions in Python"
   ]
  },
  {
   "cell_type": "code",
   "execution_count": 3,
   "id": "d1f3ee20-b683-4817-842a-0f8c51541ffa",
   "metadata": {},
   "outputs": [],
   "source": [
    "import numpy as np\n",
    "import random"
   ]
  },
  {
   "cell_type": "code",
   "execution_count": 4,
   "id": "898b1e21-32c2-4f25-8d5d-68341c8fb811",
   "metadata": {},
   "outputs": [],
   "source": [
    "#Given the following matricies and vectors\n",
    "M = np.linspace(-8, 8, 9).reshape(3,3)\n",
    "N = np.random.randint(-8, 8, size=(3,3))\n",
    "O = 2 * N\n"
   ]
  }
 ],
 "metadata": {
  "kernelspec": {
   "display_name": "Python 3 (ipykernel)",
   "language": "python",
   "name": "python3"
  },
  "language_info": {
   "codemirror_mode": {
    "name": "ipython",
    "version": 3
   },
   "file_extension": ".py",
   "mimetype": "text/x-python",
   "name": "python",
   "nbconvert_exporter": "python",
   "pygments_lexer": "ipython3",
   "version": "3.10.7"
  },
  "toc-showtags": false
 },
 "nbformat": 4,
 "nbformat_minor": 5
}
