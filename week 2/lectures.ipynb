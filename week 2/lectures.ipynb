{
 "cells": [
  {
   "cell_type": "markdown",
   "id": "190f145c-30d1-4cc5-a35f-1f0087a31ea1",
   "metadata": {},
   "source": [
    "# Week 2"
   ]
  },
  {
   "cell_type": "markdown",
   "id": "52fce7d3-db22-4aa1-b68f-4d674db6764c",
   "metadata": {},
   "source": [
    "## Linear Algebra Functions in Python"
   ]
  },
  {
   "cell_type": "code",
   "execution_count": 3,
   "id": "d1f3ee20-b683-4817-842a-0f8c51541ffa",
   "metadata": {},
   "outputs": [],
   "source": [
    "import numpy as np\n",
    "#np.linspace: Return evenly spaced numbers over a specified interval.\n",
    "#np.reshape: Gives a new shape to an array without changing its data.\n",
    "#np.random.randint: duh\n",
    "import random"
   ]
  },
  {
   "cell_type": "code",
   "execution_count": 23,
   "id": "898b1e21-32c2-4f25-8d5d-68341c8fb811",
   "metadata": {},
   "outputs": [
    {
     "name": "stdout",
     "output_type": "stream",
     "text": [
      "[1 3 5 7] [2 4 6 8] [-2  5  1  3]\n",
      "M\n",
      "[[-8. -6. -4.]\n",
      " [-2.  0.  2.]\n",
      " [ 4.  6.  8.]]\n",
      "N\n",
      "[[-1 -6 -7]\n",
      " [ 6 -3  6]\n",
      " [ 5  4  5]]\n",
      "O\n",
      "[[ -2 -12 -14]\n",
      " [ 12  -6  12]\n",
      " [ 10   8  10]]\n"
     ]
    }
   ],
   "source": [
    "#Given the following matricies and vectors\n",
    "M = np.linspace(-8, 8, 9).reshape(3,3)\n",
    "N = np.random.randint(-8, 8, size=(3,3))\n",
    "O = 2 * N\n",
    "\n",
    "v1 = np.array([1,3,5,7])\n",
    "v2 = np.array([2,4,6,8])\n",
    "v3 = np.array([-2, 5, 1, 3])\n",
    "\n",
    "\n",
    "print(v1, v2, v3)\n",
    "print(\"M\")\n",
    "print(M) \n",
    "print(\"N\")\n",
    "print(N)\n",
    "print(\"O\")\n",
    "print(O)"
   ]
  },
  {
   "cell_type": "code",
   "execution_count": 25,
   "id": "af6a0c0a-8c65-4d3e-9541-c47e80f48f53",
   "metadata": {},
   "outputs": [
    {
     "name": "stdout",
     "output_type": "stream",
     "text": [
      "N.dot(M)\n",
      "[[ -8. -36. -64.]\n",
      " [-18.   0.  18.]\n",
      " [-28.   0.  28.]]\n",
      "M.dot(N)\n",
      "[[-48.  50.   0.]\n",
      " [ 12.  20.  24.]\n",
      " [ 72. -10.  48.]]\n",
      "v1.dot(v2)\n",
      "100\n"
     ]
    }
   ],
   "source": [
    "print(\"N.dot(M)\")\n",
    "print(N.dot(M))\n",
    "print(\"M.dot(N)\")\n",
    "print(M.dot(N))\n",
    "print(\"v1.dot(v2)\")\n",
    "print(v1.dot(v2))"
   ]
  },
  {
   "cell_type": "markdown",
   "id": "28c24144-2412-4000-8fe8-659883e606f4",
   "metadata": {
    "tags": []
   },
   "source": [
    "### The multi_dot() function returns the product of two or several matrices"
   ]
  },
  {
   "cell_type": "code",
   "execution_count": 28,
   "id": "401e7e48-3235-41a1-97c6-7365be0395e0",
   "metadata": {},
   "outputs": [
    {
     "data": {
      "text/plain": [
       "array([[ 696.,  276., 1272.],\n",
       "       [ 456.,  -72.,  312.],\n",
       "       [ 216., -420., -648.]])"
      ]
     },
     "execution_count": 28,
     "metadata": {},
     "output_type": "execute_result"
    }
   ],
   "source": [
    "np.linalg.multi_dot([M, N, O])"
   ]
  },
  {
   "cell_type": "markdown",
   "id": "aa5b8163-28d5-4eb6-8b70-fc14a32a17ed",
   "metadata": {},
   "source": [
    "### The vdot() function returns the priduct of two vectors. \n",
    "#### It does not perform a matrix multiplication. It should only be used for vectors "
   ]
  },
  {
   "cell_type": "code",
   "execution_count": 29,
   "id": "a493089d-f10f-4033-8618-6e8712ba9eb8",
   "metadata": {},
   "outputs": [
    {
     "data": {
      "text/plain": [
       "100"
      ]
     },
     "execution_count": 29,
     "metadata": {},
     "output_type": "execute_result"
    }
   ],
   "source": [
    "np.vdot(v1,v2)"
   ]
  },
  {
   "cell_type": "code",
   "execution_count": 30,
   "id": "c568cd1e-3ba1-44d7-a77c-ef53cac5e539",
   "metadata": {},
   "outputs": [
    {
     "data": {
      "text/plain": [
       "39"
      ]
     },
     "execution_count": 30,
     "metadata": {},
     "output_type": "execute_result"
    }
   ],
   "source": [
    "# inner() fuction returns the inner product of two arrays\n",
    "np.inner(v3,v1)"
   ]
  },
  {
   "cell_type": "code",
   "execution_count": 31,
   "id": "95944015-8f02-431b-a1d6-6934d0cc80ce",
   "metadata": {},
   "outputs": [
    {
     "data": {
      "text/plain": [
       "array([[-48.,  50.,   0.],\n",
       "       [ 12.,  20.,  24.],\n",
       "       [ 72., -10.,  48.]])"
      ]
     },
     "execution_count": 31,
     "metadata": {},
     "output_type": "execute_result"
    }
   ],
   "source": [
    "# The matmul()function returns the product of two matricies\n",
    "np.matmul(M,N)"
   ]
  },
  {
   "cell_type": "code",
   "execution_count": 32,
   "id": "30659a2b-8831-4d49-b4a1-f9933ff5a4d9",
   "metadata": {},
   "outputs": [
    {
     "data": {
      "text/plain": [
       "array([[-576., -432., -288.],\n",
       "       [-144.,    0.,  144.],\n",
       "       [ 288.,  432.,  576.]])"
      ]
     },
     "execution_count": 32,
     "metadata": {},
     "output_type": "execute_result"
    }
   ],
   "source": [
    "#linalg.matrix_power(M,n) raides the square matrix M to power of n.\n",
    "np.linalg.matrix_power(M,3)"
   ]
  },
  {
   "cell_type": "code",
   "execution_count": 40,
   "id": "b0565baa-c001-4cd3-8d69-5f7913a0bd10",
   "metadata": {},
   "outputs": [
    {
     "name": "stdout",
     "output_type": "stream",
     "text": [
      "O\n",
      "[[ -2 -12 -14]\n",
      " [ 12  -6  12]\n",
      " [ 10   8  10]]\n",
      "(array([ 5.37363905+13.60637474j,  5.37363905-13.60637474j,\n",
      "       -8.74727809 +0.j        ]), array([[-0.74977528+0.j        , -0.74977528-0.j        ,\n",
      "        -0.33450906+0.j        ],\n",
      "       [ 0.04087321+0.37804444j,  0.04087321-0.37804444j,\n",
      "        -0.7891162 +0.j        ],\n",
      "       [ 0.35986384+0.40465643j,  0.35986384-0.40465643j,\n",
      "         0.5151692 +0.j        ]]))\n",
      "vals\n",
      "[ 5.37363905+13.60637474j  5.37363905-13.60637474j\n",
      " -8.74727809 +0.j        ]\n",
      "vectors\n",
      "[[-0.74977528+0.j         -0.74977528-0.j         -0.33450906+0.j        ]\n",
      " [ 0.04087321+0.37804444j  0.04087321-0.37804444j -0.7891162 +0.j        ]\n",
      " [ 0.35986384+0.40465643j  0.35986384-0.40465643j  0.5151692 +0.j        ]]\n"
     ]
    }
   ],
   "source": [
    "# linalg.eig(O) returns both the eigenvalues and eigenvectors of the matrix O\n",
    "\n",
    "print(\"O\")\n",
    "print(O)\n",
    "print(np.linalg.eig(O))\n",
    "eig_vals, eig_vects = np.linalg.eig(O)\n",
    "print(\"vals\")\n",
    "print(eig_vals)\n",
    "print(\"vectors\")\n",
    "print(eig_vects)"
   ]
  },
  {
   "cell_type": "code",
   "execution_count": 41,
   "id": "4142e7bd-a62a-4174-8dc1-191d0aaf969b",
   "metadata": {},
   "outputs": [
    {
     "name": "stdout",
     "output_type": "stream",
     "text": [
      "N\n",
      "[[-1 -6 -7]\n",
      " [ 6 -3  6]\n",
      " [ 5  4  5]]\n",
      "np.linalg.det(N)\n"
     ]
    },
    {
     "data": {
      "text/plain": [
       "-234.00000000000006"
      ]
     },
     "execution_count": 41,
     "metadata": {},
     "output_type": "execute_result"
    }
   ],
   "source": [
    "# linalg.det(N) returns the determinate of the matrix N\n",
    "print(\"N\")\n",
    "print(N)\n",
    "print(\"np.linalg.det(N)\")\n",
    "np.linalg.det(N)"
   ]
  },
  {
   "cell_type": "code",
   "execution_count": 42,
   "id": "439bfb6f-7fb6-4e9b-8b9a-c25296a0f71c",
   "metadata": {},
   "outputs": [
    {
     "name": "stdout",
     "output_type": "stream",
     "text": [
      "np.linalg.inv(N)\n",
      "[[ 0.16666667 -0.00854701  0.24358974]\n",
      " [-0.         -0.12820513  0.15384615]\n",
      " [-0.16666667  0.11111111 -0.16666667]]\n"
     ]
    }
   ],
   "source": [
    "# np.linalg.inv(N) returns the inverse of the matrix N\n",
    "print(\"np.linalg.inv(N)\")\n",
    "print(np.linalg.inv(N))"
   ]
  },
  {
   "cell_type": "markdown",
   "id": "95c15c42-5687-4844-a152-bbbd0f25dc60",
   "metadata": {
    "tags": []
   },
   "source": [
    "## Using Matrices in Python"
   ]
  },
  {
   "cell_type": "code",
   "execution_count": 45,
   "id": "3f978bef-919a-4678-a29d-3730c18e5d4a",
   "metadata": {},
   "outputs": [
    {
     "name": "stdout",
     "output_type": "stream",
     "text": [
      "[  0.   5.  10.  15.  20.  25.  30.  35.  40.  45.  50.  55.  60.  65.\n",
      "  70.  75.  80.  85.  90.  95. 100. 105. 110. 115. 120.]\n"
     ]
    }
   ],
   "source": [
    "L = np.linspace(0,120,25)\n",
    "print(L)"
   ]
  },
  {
   "cell_type": "code",
   "execution_count": 46,
   "id": "2682a8c2-6f37-4017-b64f-e3b9dc028f5f",
   "metadata": {},
   "outputs": [
    {
     "name": "stdout",
     "output_type": "stream",
     "text": [
      "[[  0.   5.  10.  15.  20.]\n",
      " [ 25.  30.  35.  40.  45.]\n",
      " [ 50.  55.  60.  65.  70.]\n",
      " [ 75.  80.  85.  90.  95.]\n",
      " [100. 105. 110. 115. 120.]]\n"
     ]
    }
   ],
   "source": [
    "M = L.reshape(5,5)\n",
    "print(M)"
   ]
  },
  {
   "cell_type": "markdown",
   "id": "c528f568-7fa7-40da-9235-cb0029665175",
   "metadata": {},
   "source": [
    "very important: The dimension that you would choose, the product of those dimensions should be exactly equal to the number of elements that you have"
   ]
  },
  {
   "cell_type": "code",
   "execution_count": 49,
   "id": "5eac103d-a0d0-4386-a79b-5ae3c53f105c",
   "metadata": {},
   "outputs": [
    {
     "name": "stdout",
     "output_type": "stream",
     "text": [
      "[[-1  1 -2 -1]\n",
      " [-3  2  0 -5]\n",
      " [ 1 -3 -2  0]\n",
      " [ 2 -1 -3 -3]]\n"
     ]
    }
   ],
   "source": [
    "#Filling a matrix with radom intigers\n",
    "R = np.random.randint(-5, 4, size=(4,4))\n",
    "print(R)"
   ]
  },
  {
   "cell_type": "markdown",
   "id": "9453e93b-b914-4a15-8ab0-cb62ba964767",
   "metadata": {},
   "source": [
    "### Selecting Specific Entry of a Matrix"
   ]
  },
  {
   "cell_type": "code",
   "execution_count": 50,
   "id": "c13ad8b7-e4b5-4421-8977-d80eb954003d",
   "metadata": {},
   "outputs": [
    {
     "name": "stdout",
     "output_type": "stream",
     "text": [
      "M\n",
      "[[  0.   5.  10.  15.  20.]\n",
      " [ 25.  30.  35.  40.  45.]\n",
      " [ 50.  55.  60.  65.  70.]\n",
      " [ 75.  80.  85.  90.  95.]\n",
      " [100. 105. 110. 115. 120.]]\n",
      "First Row\n",
      "[ 0.  5. 10. 15. 20.]\n",
      "Last Row\n",
      "[100. 105. 110. 115. 120.]\n"
     ]
    }
   ],
   "source": [
    "#Index starts at 0,1,2,3\n",
    "print(\"M\")\n",
    "print(M)\n",
    "print(\"First Row\")\n",
    "print(M[0])\n",
    "print(\"Last Row\")\n",
    "print(M[-1])"
   ]
  },
  {
   "cell_type": "code",
   "execution_count": 53,
   "id": "10b046da-19f8-4dc9-b70b-8fd2ea634d30",
   "metadata": {},
   "outputs": [
    {
     "name": "stdout",
     "output_type": "stream",
     "text": [
      "First Column\n",
      "[  0.  25.  50.  75. 100.]\n",
      "Grab only the first four values\n",
      "[ 0. 25. 50. 75.]\n",
      "Slice and dice as you like\n",
      "[[ 5. 10. 15.]\n",
      " [30. 35. 40.]\n",
      " [55. 60. 65.]]\n"
     ]
    }
   ],
   "source": [
    "print(\"First Column\")\n",
    "print(M[:,0])\n",
    "print(\"Grab only the first four values\")\n",
    "print(M[0:4,0])\n",
    "print(\"Slice and dice as you like\")\n",
    "print(M[0:3,1:4])"
   ]
  },
  {
   "cell_type": "markdown",
   "id": "562bc743-8425-49fb-a629-34df4c687206",
   "metadata": {},
   "source": [
    "## Solving Linear Equations Using Python"
   ]
  },
  {
   "cell_type": "code",
   "execution_count": 59,
   "id": "a8209445-6e2b-42c6-901d-05a0610283af",
   "metadata": {},
   "outputs": [],
   "source": [
    "from IPython import display\n",
    "#from IPython.display.Latex import Latex\n",
    "import sympy as sy"
   ]
  },
  {
   "cell_type": "markdown",
   "id": "bab4d804-19f7-4a13-a31e-9d6fcc41ff31",
   "metadata": {},
   "source": [
    "Given the following system of linear equations (I):\n",
    "$$\n",
    "4x + 3y + 2x = 25 \\\\\n",
    "-2x + 2y + 3z = -10\\\\\n",
    "3x - 5y + 2z = -4\\\\\n",
    "$$"
   ]
  },
  {
   "cell_type": "markdown",
   "id": "bd2042e8-2a2c-4dd4-84ed-e35457be777c",
   "metadata": {},
   "source": [
    "### Solve using Inverse Method"
   ]
  },
  {
   "cell_type": "code",
   "execution_count": 64,
   "id": "d1ccd0e9-dba7-4d7e-8047-70c2997ed3b4",
   "metadata": {},
   "outputs": [
    {
     "name": "stdout",
     "output_type": "stream",
     "text": [
      "[[ 4  3  2]\n",
      " [-2  2  3]\n",
      " [ 3 -5  2]]\n",
      "[[ 25]\n",
      " [-10]\n",
      " [ -4]]\n",
      "V\n",
      "[[ 5.]\n",
      " [ 3.]\n",
      " [-2.]]\n"
     ]
    }
   ],
   "source": [
    "M = np.array([[4,3,2],[-2,2,3],[3,-5,2]]) #coefficients matrix\n",
    "K = np.array([[25],[-10],[-4]])\n",
    "print(M); print(K)\n",
    "V = np.linalg.inv(M).dot(K)\n",
    "print(\"V\")\n",
    "print(V)"
   ]
  },
  {
   "cell_type": "markdown",
   "id": "02d34faf-db92-458f-a7e3-83de8b007cdd",
   "metadata": {},
   "source": [
    "### Solve using Reduced Row Echelon Form"
   ]
  },
  {
   "cell_type": "code",
   "execution_count": 67,
   "id": "2afff5cd-c66c-493c-90a2-27336daf460f",
   "metadata": {},
   "outputs": [
    {
     "data": {
      "text/latex": [
       "$\\displaystyle \\left[\\begin{matrix}4 & 3 & 2 & 25\\\\-2 & 2 & 3 & -10\\\\3 & -5 & 2 & -4\\end{matrix}\\right]$"
      ],
      "text/plain": [
       "Matrix([\n",
       "[ 4,  3, 2,  25],\n",
       "[-2,  2, 3, -10],\n",
       "[ 3, -5, 2,  -4]])"
      ]
     },
     "execution_count": 67,
     "metadata": {},
     "output_type": "execute_result"
    }
   ],
   "source": [
    "from sympy import *\n",
    "A = Matrix([[4,3,2,25],[-2,2,3,-10],[3,-5,2,-4]]) #Augmented Matrix\n",
    "A"
   ]
  },
  {
   "cell_type": "code",
   "execution_count": 70,
   "id": "2e51ad71-593b-4e35-a6d3-91e5ce2f2769",
   "metadata": {},
   "outputs": [
    {
     "data": {
      "text/latex": [
       "$\\displaystyle \\left[\\begin{matrix}1 & 0 & 0 & 5\\\\0 & 1 & 0 & 3\\\\0 & 0 & 1 & -2\\end{matrix}\\right]$"
      ],
      "text/plain": [
       "Matrix([\n",
       "[1, 0, 0,  5],\n",
       "[0, 1, 0,  3],\n",
       "[0, 0, 1, -2]])"
      ]
     },
     "execution_count": 70,
     "metadata": {},
     "output_type": "execute_result"
    }
   ],
   "source": [
    "A.rref(pivots=False)"
   ]
  },
  {
   "cell_type": "markdown",
   "id": "915cec2b-b40c-4230-b877-469e7a9d7fb0",
   "metadata": {},
   "source": [
    "### linalg.solve() method"
   ]
  },
  {
   "cell_type": "code",
   "execution_count": 74,
   "id": "89aa8ddf-b847-46f5-9b08-57cd640f4ee1",
   "metadata": {},
   "outputs": [
    {
     "name": "stdout",
     "output_type": "stream",
     "text": [
      "[[ 5.]\n",
      " [ 3.]\n",
      " [-2.]]\n"
     ]
    },
    {
     "data": {
      "text/plain": [
       "\u001b[0;31mDocstring:\u001b[0m\n",
       "print(value, ..., sep=' ', end='\\n', file=sys.stdout, flush=False)\n",
       "\n",
       "Prints the values to a stream, or to sys.stdout by default.\n",
       "Optional keyword arguments:\n",
       "file:  a file-like object (stream); defaults to the current sys.stdout.\n",
       "sep:   string inserted between values, default a space.\n",
       "end:   string appended after the last value, default a newline.\n",
       "flush: whether to forcibly flush the stream.\n",
       "\u001b[0;31mType:\u001b[0m      builtin_function_or_method\n"
      ]
     },
     "metadata": {},
     "output_type": "display_data"
    }
   ],
   "source": [
    "Sol = np.linalg.solve(M,K)\n",
    "print(Sol)\n",
    "?print"
   ]
  }
 ],
 "metadata": {
  "kernelspec": {
   "display_name": "Python 3 (ipykernel)",
   "language": "python",
   "name": "python3"
  },
  "language_info": {
   "codemirror_mode": {
    "name": "ipython",
    "version": 3
   },
   "file_extension": ".py",
   "mimetype": "text/x-python",
   "name": "python",
   "nbconvert_exporter": "python",
   "pygments_lexer": "ipython3",
   "version": "3.10.7"
  },
  "toc-showtags": false
 },
 "nbformat": 4,
 "nbformat_minor": 5
}
